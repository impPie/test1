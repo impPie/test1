{
 "cells": [
  {
   "cell_type": "code",
   "execution_count": 12,
   "metadata": {},
   "outputs": [
    {
     "name": "stdout",
     "output_type": "stream",
     "text": [
      "['d:\\\\OneDrive - 筑波大学\\\\lab\\\\codes\\\\MSlab_project\\\\rearrange\\\\code', '..', 'd:\\\\anaconda\\\\envs\\\\torch\\\\python39.zip', 'd:\\\\anaconda\\\\envs\\\\torch\\\\DLLs', 'd:\\\\anaconda\\\\envs\\\\torch\\\\lib', 'd:\\\\anaconda\\\\envs\\\\torch', '', 'C:\\\\Users\\\\ImpWa\\\\AppData\\\\Roaming\\\\Python\\\\Python39\\\\site-packages', 'd:\\\\anaconda\\\\envs\\\\torch\\\\lib\\\\site-packages', 'd:\\\\anaconda\\\\envs\\\\torch\\\\lib\\\\site-packages\\\\win32', 'd:\\\\anaconda\\\\envs\\\\torch\\\\lib\\\\site-packages\\\\win32\\\\lib', 'd:\\\\anaconda\\\\envs\\\\torch\\\\lib\\\\site-packages\\\\Pythonwin', 'd:\\\\anaconda\\\\envs\\\\torch\\\\lib\\\\site-packages\\\\IPython\\\\extensions', 'C:\\\\Users\\\\ImpWa\\\\.ipython']\n",
      "---------------------------------------------------------\n",
      "in ParameterSetup, paramFilePath = ../data/params/params.json\n"
     ]
    }
   ],
   "source": [
    "import sys\n",
    "# sys.path.insert(0,\"..\")\n",
    "print(sys.path)\n",
    "print(\"---------------------------------------------------------\")\n",
    "from _7utils.dataReader import DataReader\n",
    "import matplotlib.pyplot as plt\n",
    "dataReader = DataReader()\n",
    "# dataReader.readAll(sys)\n",
    "#readOfflineEEGandStageLabels2pickle.py reads text files containing EEG raw data signals and ground truth stage labels from the WAVEDIR directory. It writes files starting with \"eegAndStage\" into the \"data/pickled\" directory. These files are in Python's pickle format to enable faster access.\n"
   ]
  },
  {
   "cell_type": "code",
   "execution_count": null,
   "metadata": {},
   "outputs": [],
   "source": [
    "dc = {\"a\":1,\"b\":2,\"c\":3}\n",
    "ls = [3,2,4,6]\n",
    "ls[:2]"
   ]
  },
  {
   "cell_type": "code",
   "execution_count": 2,
   "metadata": {},
   "outputs": [
    {
     "name": "stdout",
     "output_type": "stream",
     "text": [
      "---------------------\n",
      "Started to read ../data/sampledata/Raw/D1798_short.txt. It may take a few minutes before starting to classify. Please wait.\n",
      "---------------------\n"
     ]
    },
    {
     "data": {
      "text/plain": [
       "(1, 99981)"
      ]
     },
     "execution_count": 2,
     "metadata": {},
     "output_type": "execute_result"
    }
   ],
   "source": [
    "import numpy as np\n",
    "data,m, t = dataReader.readEEG(\"../data/sampledata/Raw/D1798_short.txt\")\n",
    "data = np.array(data).reshape(1, -1)      \n",
    "# raw = mne.io.RawArray(data, inf)      \n",
    "data.shape"
   ]
  },
  {
   "attachments": {},
   "cell_type": "markdown",
   "metadata": {},
   "source": [
    "## stft-freqs"
   ]
  },
  {
   "attachments": {},
   "cell_type": "markdown",
   "metadata": {},
   "source": [
    "### signal"
   ]
  },
  {
   "cell_type": "code",
   "execution_count": 6,
   "metadata": {},
   "outputs": [
    {
     "data": {
      "text/plain": [
       "array([ 0. ,  0.5,  1. ,  1.5,  2. ,  2.5,  3. ,  3.5,  4. ,  4.5,  5. ,\n",
       "        5.5,  6. ,  6.5,  7. ,  7.5,  8. ,  8.5,  9. ,  9.5, 10. , 10.5,\n",
       "       11. , 11.5, 12. , 12.5, 13. , 13.5, 14. , 14.5, 15. , 15.5, 16. ,\n",
       "       16.5, 17. , 17.5, 18. , 18.5, 19. , 19.5, 20. , 20.5, 21. , 21.5,\n",
       "       22. , 22.5, 23. , 23.5, 24. , 24.5, 25. , 25.5, 26. , 26.5, 27. ,\n",
       "       27.5, 28. , 28.5, 29. , 29.5, 30. , 30.5, 31. , 31.5, 32. , 32.5,\n",
       "       33. , 33.5, 34. , 34.5, 35. , 35.5, 36. , 36.5, 37. , 37.5, 38. ,\n",
       "       38.5, 39. , 39.5, 40. , 40.5, 41. , 41.5, 42. , 42.5, 43. , 43.5,\n",
       "       44. , 44.5, 45. , 45.5, 46. , 46.5, 47. , 47.5, 48. , 48.5, 49. ,\n",
       "       49.5, 50. , 50.5, 51. , 51.5, 52. , 52.5, 53. , 53.5, 54. , 54.5,\n",
       "       55. , 55.5, 56. , 56.5, 57. , 57.5, 58. , 58.5, 59. , 59.5, 60. ,\n",
       "       60.5, 61. , 61.5, 62. , 62.5, 63. , 63.5, 64. ])"
      ]
     },
     "execution_count": 6,
     "metadata": {},
     "output_type": "execute_result"
    }
   ],
   "source": [
    "from scipy import signal\n",
    "\n",
    "eegSegment = data[0][:128*4]\n",
    "samplingFreq = 128\n",
    "stft_nperseg = 256\n",
    "freqs, segment_times, Zxx = signal.stft(\n",
    "    eegSegment, fs=samplingFreq, nperseg=stft_nperseg)\n",
    "\n",
    "\n",
    "def filtering(Zxx, freqs, lowerFreq, upperFreq):\n",
    "    zipped = list(filter(lambda x: lowerFreq <=\n",
    "                         x[1] and x[1] < upperFreq, zip(Zxx, freqs)))\n",
    "    return np.array([e[0] for e in zipped]), np.array([e[1] for e in zipped])\n",
    "\n",
    "\n",
    "Zxx_filtered, f = filtering(Zxx, freqs, 1, 12)\n",
    "\n",
    "\n",
    "BandWidth = 11\n",
    "binWidth4freqHisto = 0.5\n",
    "\n",
    "freqBinNum = round(BandWidth / binWidth4freqHisto)\n",
    "binSize = np.int(np.floor(1.0 * len(Zxx) / freqBinNum))\n",
    "\n",
    "Zxx_binned = np.array([np.sum(np.abs(\n",
    "    Zxx_filtered[(binID*binSize):((binID+1)*binSize)]), axis=0) for binID in range(freqBinNum)])\n",
    "\n",
    "plt.pcolormesh(segment_times, f, Zxx_binned)\n",
    "# plt.pcolormesh(segment_times, f, Zxx_binned, shading='gouraud')\n",
    "plt.title('STFT Magnitude')\n",
    "plt.ylabel('Bin')\n",
    "plt.xlabel('Time [sec]')\n",
    "plt.show()\n"
   ]
  },
  {
   "cell_type": "code",
   "execution_count": 20,
   "metadata": {},
   "outputs": [
    {
     "data": {
      "text/plain": [
       "array([[ 9.78900092e-01+1.94017226e+00j,  1.01995153e+00+3.47806437e-01j,\n",
       "         6.17327282e-01+1.05652332e+00j, -2.79501426e+00-2.01574802e+00j,\n",
       "        -4.09943413e+00-5.68626371e+00j],\n",
       "       [-1.69464802e+00-2.12543811e+00j, -1.30084695e+00-7.71286944e-02j,\n",
       "         7.48873295e-01-3.72852594e+00j,  3.14987762e+00+2.54897541e+00j,\n",
       "         1.84237554e+00+5.72354273e+00j],\n",
       "       [ 4.27773276e+00+5.66998855e-01j, -4.02402266e-01+5.39389137e+00j,\n",
       "        -2.03508982e+00+2.91511105e+00j, -3.37458714e+00-4.03985953e+00j,\n",
       "         3.21353001e-01-5.16148282e+00j],\n",
       "       [-2.98457138e+00+3.21456874e+00j,  3.44917819e+00-9.27315013e+00j,\n",
       "         6.41348303e-03-2.36837662e+00j,  3.97893503e+00+4.93819748e+00j,\n",
       "        -1.32326973e+00+3.48793276e+00j],\n",
       "       [-1.56315835e-01-2.36827163e+00j, -2.55834994e+00+7.54601604e+00j,\n",
       "        -1.22715753e+00+1.59475383e+00j, -2.27110726e+00-3.61889854e+00j,\n",
       "         1.17255283e+00-2.82660309e+00j],\n",
       "       [-1.12148257e+00+6.43293109e-01j, -3.74457125e+00-3.69893755e+00j,\n",
       "         2.14803133e+00+6.79930064e-01j,  5.47221803e-01+1.01149983e+00j,\n",
       "        -1.73143068e+00+2.37473837e+00j],\n",
       "       [ 2.35330203e+00-2.95906904e+00j,  7.51765588e+00+1.12639348e+00j,\n",
       "         9.41981585e-01-1.01832094e+00j,  4.95663975e-01+2.06127076e+00j,\n",
       "         1.53623700e+00-1.55831852e+00j],\n",
       "       [ 2.68277694e-01+4.92352043e+00j, -4.03165771e+00+6.53330024e-03j,\n",
       "         1.84772156e+00+1.64498024e+00j,  7.69411062e-01-2.63028282e+00j,\n",
       "        -1.50711496e+00+1.86909606e+00j],\n",
       "       [-2.79289528e+00-3.29424951e+00j,  2.84263721e-01-2.09137951e+00j,\n",
       "        -6.35114650e+00-1.69597892e+00j, -1.25733894e+00-7.19664793e-01j,\n",
       "         2.57900122e+00-1.47837741e+00j],\n",
       "       [ 2.42415574e+00+1.53981795e+00j, -6.32369856e-01+3.94384504e+00j,\n",
       "         6.84012422e+00-1.40968299e+00j, -3.09372639e-01-1.66652519e-01j,\n",
       "        -2.89322273e+00-9.91655932e-02j],\n",
       "       [-2.15087965e+00-1.52595627e+00j, -9.26730502e-02-4.18937150e+00j,\n",
       "        -1.78457806e+00+2.74504953e+00j, -9.22076486e-01+3.15708164e+00j,\n",
       "         1.62969355e+00+1.47652297e+00j],\n",
       "       [ 2.21581003e+00+1.01759043e+00j,  1.03653947e+00+1.26300017e+00j,\n",
       "        -2.09055654e+00-1.59450945e+00j,  3.82866441e+00+9.84538138e-01j,\n",
       "         9.17989215e-03-8.85131692e-01j],\n",
       "       [-1.81239836e+00-1.77159374e+00j,  1.08452918e+00+2.97508965e+00j,\n",
       "        -2.64718851e+00+1.51662106e+00j, -3.44256584e+00-6.12291177e+00j,\n",
       "         1.38862681e-01+1.68493255e-01j],\n",
       "       [ 4.50870640e+00+2.36456733e+00j, -7.79641890e-02-3.78132072e+00j,\n",
       "         6.70314234e+00-2.06909225e+00j,  3.51746924e+00+6.46040345e+00j,\n",
       "         8.83801855e-01-2.94887222e-02j],\n",
       "       [-6.31825846e+00+1.95488530e+00j, -5.12241777e+00+2.68067808e-01j,\n",
       "        -4.63496261e+00+2.62148602e+00j, -7.99506697e+00-4.61381946e+00j,\n",
       "        -3.20844611e-01-2.88645629e+00j],\n",
       "       [ 2.01598733e+00-5.19258130e+00j,  2.92329207e+00+1.15856008e+00j,\n",
       "        -1.30424381e+00-5.26850563e+00j,  6.33848086e+00-5.97837451e-02j,\n",
       "        -3.79295424e+00+1.90162628e+00j],\n",
       "       [ 1.57001910e+00+2.11573987e+00j,  3.29060235e+00+2.16014704e+00j,\n",
       "         4.55972791e+00+5.25169247e+00j, -1.01350244e-01+6.11171672e+00j,\n",
       "         2.71142689e+00+1.93790917e+00j],\n",
       "       [ 6.22122013e-01+5.59285615e-01j, -2.48550196e+00-2.48460803e+00j,\n",
       "        -1.97480490e+00-2.09073819e-01j, -4.93560209e-01-5.76026582e+00j,\n",
       "        -5.87239217e-01-1.00380419e+00j],\n",
       "       [-2.07703819e+00+1.90736965e+00j, -2.06049252e+00-1.73130623e+00j,\n",
       "         8.40083315e-01-1.79204311e+00j, -3.87024485e-01+9.30605084e-01j,\n",
       "         1.49201441e+00+9.05101839e-01j],\n",
       "       [-1.24075602e+00-2.68213234e+00j,  1.70016792e+00+5.70946057e+00j,\n",
       "        -1.97516935e+00+1.21449385e+00j,  9.49994213e-01+2.10153940e+00j,\n",
       "        -5.78205654e-01-1.95490205e+00j],\n",
       "       [ 1.90625763e+00-1.04391668e+00j,  1.83681552e+00-5.27687313e+00j,\n",
       "         2.29287175e+00-1.46500011e+00j, -1.07444227e+00-2.55314102e+00j,\n",
       "        -4.81107378e-01+1.34228485e+00j],\n",
       "       [ 1.39822914e+00+1.75488316e+00j, -1.03758397e+00+1.33987754e+00j,\n",
       "        -1.90763005e+00+5.36155062e-01j,  6.87270379e-01+2.47518661e+00j,\n",
       "         6.92082972e-01-5.69197968e-01j]])"
      ]
     },
     "execution_count": 20,
     "metadata": {},
     "output_type": "execute_result"
    }
   ],
   "source": [
    "Zxx_filtered"
   ]
  },
  {
   "cell_type": "code",
   "execution_count": 24,
   "metadata": {},
   "outputs": [
    {
     "name": "stderr",
     "output_type": "stream",
     "text": [
      "C:\\Users\\ImpWa\\AppData\\Local\\Temp\\ipykernel_16160\\3354741108.py:6: DeprecationWarning: `np.int` is a deprecated alias for the builtin `int`. To silence this warning, use `int` by itself. Doing this will not modify any behavior and is safe. When replacing `np.int`, you may wish to use e.g. `np.int64` or `np.int32` to specify the precision. If you wish to review your current use, check the release note link for additional information.\n",
      "Deprecated in NumPy 1.20; for more details and guidance: https://numpy.org/devdocs/release/1.20.0-notes.html#deprecations\n",
      "  binSize = np.int(np.floor(1.0 * len(Zxx) / freqBinNum))\n"
     ]
    },
    {
     "data": {
      "text/plain": [
       "array([[15.9665055 , 25.65138374, 12.96248297, 23.37622268, 24.98482513],\n",
       "       [17.19515899, 23.00152185, 19.67170368,  7.8107057 , 13.39578317],\n",
       "       [19.31483092, 17.90243505, 21.29440439, 30.85329207,  7.09114289],\n",
       "       [14.81657008, 19.24369628, 18.66620109, 21.5468542 , 12.52238302],\n",
       "       [ 4.41718462,  7.28207574,  4.70247831,  5.33884032,  2.32198397],\n",
       "       [ 0.        ,  0.        ,  0.        ,  0.        ,  0.        ],\n",
       "       [ 0.        ,  0.        ,  0.        ,  0.        ,  0.        ],\n",
       "       [ 0.        ,  0.        ,  0.        ,  0.        ,  0.        ],\n",
       "       [ 0.        ,  0.        ,  0.        ,  0.        ,  0.        ],\n",
       "       [ 0.        ,  0.        ,  0.        ,  0.        ,  0.        ],\n",
       "       [ 0.        ,  0.        ,  0.        ,  0.        ,  0.        ],\n",
       "       [ 0.        ,  0.        ,  0.        ,  0.        ,  0.        ],\n",
       "       [ 0.        ,  0.        ,  0.        ,  0.        ,  0.        ],\n",
       "       [ 0.        ,  0.        ,  0.        ,  0.        ,  0.        ],\n",
       "       [ 0.        ,  0.        ,  0.        ,  0.        ,  0.        ],\n",
       "       [ 0.        ,  0.        ,  0.        ,  0.        ,  0.        ],\n",
       "       [ 0.        ,  0.        ,  0.        ,  0.        ,  0.        ],\n",
       "       [ 0.        ,  0.        ,  0.        ,  0.        ,  0.        ],\n",
       "       [ 0.        ,  0.        ,  0.        ,  0.        ,  0.        ],\n",
       "       [ 0.        ,  0.        ,  0.        ,  0.        ,  0.        ],\n",
       "       [ 0.        ,  0.        ,  0.        ,  0.        ,  0.        ],\n",
       "       [ 0.        ,  0.        ,  0.        ,  0.        ,  0.        ]])"
      ]
     },
     "execution_count": 24,
     "metadata": {},
     "output_type": "execute_result"
    }
   ],
   "source": [
    "\n",
    "BandWidth = 11\n",
    "binWidth4freqHisto = 0.5\n",
    "\n",
    "\n",
    "freqBinNum = round(BandWidth / binWidth4freqHisto) \n",
    "binSize = np.int(np.floor(1.0 * len(Zxx) / freqBinNum))\n",
    "\n",
    "Zxx_binned = np.array([np.sum(np.abs(\n",
    "    Zxx_filtered[(binID*binSize):((binID+1)*binSize)]), axis=0) for binID in range(freqBinNum)])\n",
    "Zxx_binned\n"
   ]
  },
  {
   "cell_type": "code",
   "execution_count": 25,
   "metadata": {},
   "outputs": [
    {
     "data": {
      "image/png": "[encoded data removed]",
      "text/plain": [
       "<Figure size 640x480 with 1 Axes>"
      ]
     },
     "metadata": {},
     "output_type": "display_data"
    }
   ],
   "source": [
    "plt.pcolormesh(segment_times, f, Zxx_binned)\n",
    "# plt.pcolormesh(segment_times, f, Zxx_binned, shading='gouraud')\n",
    "plt.title('STFT Magnitude')\n",
    "plt.ylabel('Bin')\n",
    "plt.xlabel('Time [sec]')\n",
    "plt.show()\n"
   ]
  },
  {
   "attachments": {},
   "cell_type": "markdown",
   "metadata": {},
   "source": [
    "### mne"
   ]
  },
  {
   "cell_type": "code",
   "execution_count": null,
   "metadata": {},
   "outputs": [],
   "source": [
    "import mne\n",
    "\n",
    "eegSegment = data[0][:128*4]\n",
    "sfreq = 128\n",
    "nperseg = 256\n",
    "\n",
    "# Create MNE RawArray object from EEG data\n",
    "raw = mne.io.RawArray(eegSegment.reshape(1, -1), info=mne.create_info(['EEG'], sfreq, 'eeg'))\n",
    "raw.compute_psd(fmin =1,fmax =12).get_data()#.plot()\n",
    "# raw"
   ]
  },
  {
   "cell_type": "code",
   "execution_count": null,
   "metadata": {},
   "outputs": [],
   "source": [
    "import mne\n",
    "\n",
    "eegSegment = data[0][:128*4]\n",
    "sfreq = 128\n",
    "nperseg = 256\n",
    "\n",
    "# Create MNE RawArray object from EEG data\n",
    "# raw = mne.io.RawArray(eegSegment.reshape(1, -1), info=mne.create_info(ch_names=['EEG'], sfreq=sfreq))\n",
    "seg = eegSegment.reshape((1,-1))\n",
    "seg.shape\n",
    "# Apply STFT\n",
    "frequencies = mne.time_frequency.stft(seg, wsize=nperseg)\n",
    "fr = frequencies[0]\n",
    "f = np.sum(abs(fr),axis = 1)\n",
    "plt.plot(f)"
   ]
  },
  {
   "cell_type": "code",
   "execution_count": null,
   "metadata": {},
   "outputs": [],
   "source": [
    "import matplotlib.pyplot as plt\n",
    "plt.pcolormesh(segment_times, freqs, np.abs(Zxx),  # shading='gouraud'\n",
    "               )\n",
    "plt.title('STFT Magnitude')\n",
    "plt.ylabel('Frequency [Hz]')\n",
    "plt.xlabel('Time [sec]')\n",
    "# plt.ylim(fmin, fmax)\n",
    "plt.colorbar()\n",
    "plt.tight_layout()\n",
    "plt.show()\n"
   ]
  },
  {
   "cell_type": "code",
   "execution_count": null,
   "metadata": {},
   "outputs": [],
   "source": [
    "def filtering(Zxx, freqs, lowerFreq, upperFreq):\n",
    "        zipped = list(filter(lambda x: lowerFreq <=\n",
    "                      x[1] and x[1] < upperFreq, zip(Zxx, freqs)))\n",
    "        return np.array([e[0] for e in zipped]), np.array([e[1] for e in zipped])\n",
    "\n",
    "def binning(Zxx, freqs, freqBinNum):\n",
    "    binSize = np.int(np.floor(1.0 * len(Zxx) / freqBinNum))\n",
    "    Zxx_binned = np.array([np.sum(np.abs(Zxx[(binID*binSize):((binID+1)*binSize)]),axis=0) for binID in range(freqBinNum)])\n",
    "    freqs_binned = np.array([np.mean(freqs[(binID*binSize):((binID+1)*binSize)],axis=0) for binID in range(freqBinNum)])\n",
    "    return Zxx_binned, freqs_binned"
   ]
  },
  {
   "cell_type": "code",
   "execution_count": 4,
   "metadata": {},
   "outputs": [
    {
     "name": "stdout",
     "output_type": "stream",
     "text": [
      "[0, 1, 2]\n"
     ]
    }
   ],
   "source": [
    "a = [i for i in range(5)]\n",
    "print(a[:3])"
   ]
  }
 ],
 "metadata": {
  "kernelspec": {
   "display_name": "torch",
   "language": "python",
   "name": "python3"
  },
  "language_info": {
   "codemirror_mode": {
    "name": "ipython",
    "version": 3
   },
   "file_extension": ".py",
   "mimetype": "text/x-python",
   "name": "python",
   "nbconvert_exporter": "python",
   "pygments_lexer": "ipython3",
   "version": "3.9.13"
  },
  "orig_nbformat": 4
 },
 "nbformat": 4,
 "nbformat_minor": 2
}
